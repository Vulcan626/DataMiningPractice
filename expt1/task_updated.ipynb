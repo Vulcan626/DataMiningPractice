{
 "cells": [
  {
   "cell_type": "markdown",
   "source": [
    "# 利用随机森林算法完成预测任务\n",
    "created by Vulcan626 on 2023/11/29\n",
    "- 任务：预测一个人的收入是否超过5万美元\n",
    "- 数据集：adult（经过fc处理后的数据集）"
   ],
   "metadata": {
    "collapsed": false
   },
   "id": "70eabad33a750d45"
  },
  {
   "cell_type": "code",
   "execution_count": 2,
   "id": "5a5af40a6bf68543",
   "metadata": {
    "collapsed": false,
    "ExecuteTime": {
     "end_time": "2023-11-29T09:02:48.857695Z",
     "start_time": "2023-11-29T09:02:48.678216Z"
    }
   },
   "outputs": [],
   "source": [
    "# 导入包\n",
    "import pandas as pd\n",
    "import numpy as np\n",
    "from sklearn.model_selection import train_test_split\n",
    "from sklearn.ensemble import RandomForestClassifier\n",
    "from sklearn.metrics import classification_report, accuracy_score\n"
   ]
  },
  {
   "cell_type": "code",
   "execution_count": 3,
   "id": "c3f64218d0f219bb",
   "metadata": {
    "collapsed": false,
    "ExecuteTime": {
     "end_time": "2023-11-29T09:02:49.026559Z",
     "start_time": "2023-11-29T09:02:48.859528Z"
    }
   },
   "outputs": [],
   "source": [
    "\n",
    "# 加载处理后的数据集\n",
    "file_path = 'adult/adult_data_encoded.csv'\n",
    "data = pd.read_csv(file_path)\n",
    "\n",
    "# 分离特征和目标变量\n",
    "X = data.drop('income', axis=1)  # Assuming 'income' is the target variable\n",
    "y = data['income']\n",
    "\n",
    "# 将数据集分为训练集和测试集\n",
    "X_train, X_test, y_train, y_test = train_test_split(X, y, test_size=0.3, random_state=42)\n"
   ]
  },
  {
   "cell_type": "code",
   "execution_count": 4,
   "id": "fa0f957d",
   "metadata": {
    "ExecuteTime": {
     "end_time": "2023-11-29T09:02:50.959918Z",
     "start_time": "2023-11-29T09:02:49.030674Z"
    }
   },
   "outputs": [],
   "source": [
    "\n",
    "# 模型选择\n",
    "model = RandomForestClassifier(random_state=42)\n",
    "\n",
    "# 训练模型\n",
    "model.fit(X_train, y_train)\n",
    "\n",
    "# 在测试集上进行预测\n",
    "y_pred = model.predict(X_test)\n",
    "\n",
    "# 评估模型\n",
    "accuracy = accuracy_score(y_test, y_pred)\n",
    "report = classification_report(y_test, y_pred)\n"
   ]
  },
  {
   "cell_type": "code",
   "execution_count": 5,
   "id": "9861afa8",
   "metadata": {
    "ExecuteTime": {
     "end_time": "2023-11-29T09:02:50.974096Z",
     "start_time": "2023-11-29T09:02:50.960244Z"
    }
   },
   "outputs": [
    {
     "name": "stdout",
     "output_type": "stream",
     "text": [
      "Model Accuracy: 0.8212713686150066\n",
      "\n",
      "Classification Report:\n",
      "               precision    recall  f1-score   support\n",
      "\n",
      "       <=50K       0.87      0.90      0.89      7455\n",
      "        >50K       0.64      0.56      0.60      2314\n",
      "\n",
      "    accuracy                           0.82      9769\n",
      "   macro avg       0.75      0.73      0.74      9769\n",
      "weighted avg       0.81      0.82      0.82      9769\n"
     ]
    }
   ],
   "source": [
    "\n",
    "# 输出结果\n",
    "print(\"Model Accuracy:\", accuracy)\n",
    "print(\"\\nClassification Report:\\n\", report)\n"
   ]
  }
 ],
 "metadata": {
  "kernelspec": {
   "display_name": "Python 3 (ipykernel)",
   "language": "python",
   "name": "python3"
  }
 },
 "nbformat": 4,
 "nbformat_minor": 5
}
