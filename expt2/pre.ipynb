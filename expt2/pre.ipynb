{
 "cells": [
  {
   "cell_type": "markdown",
   "source": [
    "# 数据处理\n",
    "created by Vulcan626 on 2023/12/12"
   ],
   "metadata": {
    "collapsed": false
   },
   "id": "dfe622e0160d9761"
  },
  {
   "cell_type": "code",
   "execution_count": null,
   "outputs": [],
   "source": [],
   "metadata": {
    "collapsed": false
   },
   "id": "af6de56370a77d06"
  }
 ],
 "metadata": {
  "kernelspec": {
   "display_name": "Python 3",
   "language": "python",
   "name": "python3"
  },
  "language_info": {
   "codemirror_mode": {
    "name": "ipython",
    "version": 2
   },
   "file_extension": ".py",
   "mimetype": "text/x-python",
   "name": "python",
   "nbconvert_exporter": "python",
   "pygments_lexer": "ipython2",
   "version": "2.7.6"
  }
 },
 "nbformat": 4,
 "nbformat_minor": 5
}
