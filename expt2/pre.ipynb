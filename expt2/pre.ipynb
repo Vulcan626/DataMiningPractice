{
 "cells": [
  {
   "cell_type": "markdown",
   "source": [
    "# 数据预处理-Iris数据集\n",
    "created by Vulcan626 on 2023/12/12\n",
    "本笔记本包含了对鸢尾花数据集进行预处理的步骤，以便进行后续的聚类分析。"
   ],
   "metadata": {
    "collapsed": false
   },
   "id": "dfe622e0160d9761"
  },
  {
   "cell_type": "code",
   "execution_count": 14,
   "outputs": [],
   "source": [
    "# 导入包\n",
    "import pandas as pd\n",
    "from sklearn.preprocessing import StandardScaler"
   ],
   "metadata": {
    "collapsed": false,
    "ExecuteTime": {
     "end_time": "2023-12-12T08:00:18.896428Z",
     "start_time": "2023-12-12T08:00:18.885484Z"
    }
   },
   "id": "af6de56370a77d06"
  },
  {
   "cell_type": "markdown",
   "source": [
    "\n",
    "## 数据加载\n",
    "从文件中加载 Iris 数据集。\n"
   ],
   "metadata": {
    "collapsed": false
   },
   "id": "bc243f5464a97a5"
  },
  {
   "cell_type": "code",
   "execution_count": 15,
   "outputs": [],
   "source": [
    "\n",
    "# 加载数据集\n",
    "iris_df = pd.read_csv('iris/iris.data', header=None, names=['sepal_length', 'sepal_width', 'petal_length', 'petal_width', 'class'])\n"
   ],
   "metadata": {
    "collapsed": false,
    "ExecuteTime": {
     "end_time": "2023-12-12T08:00:18.905130Z",
     "start_time": "2023-12-12T08:00:18.900587Z"
    }
   },
   "id": "d1152d42d98af185"
  },
  {
   "cell_type": "markdown",
   "source": [
    "\n",
    "## 数据清洗\n",
    "检查数据集中是否存在缺失值。\n"
   ],
   "metadata": {
    "collapsed": false
   },
   "id": "e67527aad58630a1"
  },
  {
   "cell_type": "code",
   "execution_count": 16,
   "outputs": [
    {
     "data": {
      "text/plain": "sepal_length    0\nsepal_width     0\npetal_length    0\npetal_width     0\nclass           0\ndtype: int64"
     },
     "execution_count": 16,
     "metadata": {},
     "output_type": "execute_result"
    }
   ],
   "source": [
    "\n",
    "# 检查缺失值\n",
    "missing_values = iris_df.isnull().sum()\n",
    "missing_values\n"
   ],
   "metadata": {
    "collapsed": false,
    "ExecuteTime": {
     "end_time": "2023-12-12T08:00:18.927467Z",
     "start_time": "2023-12-12T08:00:18.907337Z"
    }
   },
   "id": "2a778af74e488012"
  },
  {
   "cell_type": "markdown",
   "source": [
    "\n",
    "## 数据标准化\n",
    "对特征进行标准化处理，以确保它们在同一尺度上，这对于聚类分析非常重要。\n"
   ],
   "metadata": {
    "collapsed": false
   },
   "id": "2bc8eb62dc83093b"
  },
  {
   "cell_type": "code",
   "execution_count": 17,
   "outputs": [
    {
     "data": {
      "text/plain": "   sepal_length  sepal_width  petal_length  petal_width        class\n0     -0.900681     1.032057     -1.341272    -1.312977  Iris-setosa\n1     -1.143017    -0.124958     -1.341272    -1.312977  Iris-setosa\n2     -1.385353     0.337848     -1.398138    -1.312977  Iris-setosa\n3     -1.506521     0.106445     -1.284407    -1.312977  Iris-setosa\n4     -1.021849     1.263460     -1.341272    -1.312977  Iris-setosa",
      "text/html": "<div>\n<style scoped>\n    .dataframe tbody tr th:only-of-type {\n        vertical-align: middle;\n    }\n\n    .dataframe tbody tr th {\n        vertical-align: top;\n    }\n\n    .dataframe thead th {\n        text-align: right;\n    }\n</style>\n<table border=\"1\" class=\"dataframe\">\n  <thead>\n    <tr style=\"text-align: right;\">\n      <th></th>\n      <th>sepal_length</th>\n      <th>sepal_width</th>\n      <th>petal_length</th>\n      <th>petal_width</th>\n      <th>class</th>\n    </tr>\n  </thead>\n  <tbody>\n    <tr>\n      <th>0</th>\n      <td>-0.900681</td>\n      <td>1.032057</td>\n      <td>-1.341272</td>\n      <td>-1.312977</td>\n      <td>Iris-setosa</td>\n    </tr>\n    <tr>\n      <th>1</th>\n      <td>-1.143017</td>\n      <td>-0.124958</td>\n      <td>-1.341272</td>\n      <td>-1.312977</td>\n      <td>Iris-setosa</td>\n    </tr>\n    <tr>\n      <th>2</th>\n      <td>-1.385353</td>\n      <td>0.337848</td>\n      <td>-1.398138</td>\n      <td>-1.312977</td>\n      <td>Iris-setosa</td>\n    </tr>\n    <tr>\n      <th>3</th>\n      <td>-1.506521</td>\n      <td>0.106445</td>\n      <td>-1.284407</td>\n      <td>-1.312977</td>\n      <td>Iris-setosa</td>\n    </tr>\n    <tr>\n      <th>4</th>\n      <td>-1.021849</td>\n      <td>1.263460</td>\n      <td>-1.341272</td>\n      <td>-1.312977</td>\n      <td>Iris-setosa</td>\n    </tr>\n  </tbody>\n</table>\n</div>"
     },
     "execution_count": 17,
     "metadata": {},
     "output_type": "execute_result"
    }
   ],
   "source": [
    "\n",
    "# 对特征进行标准化处理（不包括类别标签）\n",
    "scaler = StandardScaler()\n",
    "iris_df[['sepal_length', 'sepal_width', 'petal_length', 'petal_width']] = scaler.fit_transform(iris_df[['sepal_length', 'sepal_width', 'petal_length', 'petal_width']])\n",
    "\n",
    "# 展示标准化后的前几行数据\n",
    "iris_df.head()\n"
   ],
   "metadata": {
    "collapsed": false,
    "ExecuteTime": {
     "end_time": "2023-12-12T08:00:18.928124Z",
     "start_time": "2023-12-12T08:00:18.915556Z"
    }
   },
   "id": "7090932cf7111304"
  },
  {
   "cell_type": "markdown",
   "source": [
    "\n",
    "## 保存处理后的数据集\n",
    "将处理后的数据集保存到 `/iris` 文件夹中，以便后续使用。\n"
   ],
   "metadata": {
    "collapsed": false
   },
   "id": "f9d0786df790462e"
  },
  {
   "cell_type": "code",
   "execution_count": 18,
   "outputs": [],
   "source": [
    "# 保存处理后的数据集\n",
    "processed_data_path = 'iris/processed_iris.csv'\n",
    "iris_df.to_csv(processed_data_path, index=False)"
   ],
   "metadata": {
    "collapsed": false,
    "ExecuteTime": {
     "end_time": "2023-12-12T08:00:18.928240Z",
     "start_time": "2023-12-12T08:00:18.919752Z"
    }
   },
   "id": "92b1fc1d90cc5566"
  }
 ],
 "metadata": {
  "kernelspec": {
   "display_name": "Python 3",
   "language": "python",
   "name": "python3"
  },
  "language_info": {
   "codemirror_mode": {
    "name": "ipython",
    "version": 2
   },
   "file_extension": ".py",
   "mimetype": "text/x-python",
   "name": "python",
   "nbconvert_exporter": "python",
   "pygments_lexer": "ipython2",
   "version": "2.7.6"
  }
 },
 "nbformat": 4,
 "nbformat_minor": 5
}
