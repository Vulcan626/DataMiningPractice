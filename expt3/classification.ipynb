{
 "cells": [
  {
   "cell_type": "markdown",
   "source": [
    "# 分类算法实现\n",
    "Created by Vulcan626 on 2023/12/26"
   ],
   "metadata": {
    "collapsed": false
   },
   "id": "61cb033fe3db4702"
  },
  {
   "cell_type": "code",
   "outputs": [],
   "source": [
    "# 导入包\n",
    "import pandas as pd"
   ],
   "metadata": {
    "collapsed": false,
    "ExecuteTime": {
     "end_time": "2023-12-26T08:39:31.525072Z",
     "start_time": "2023-12-26T08:39:31.505035Z"
    }
   },
   "id": "e550ca436cd8f16a",
   "execution_count": 9
  },
  {
   "cell_type": "markdown",
   "source": [
    "## 导入数据集\n",
    "加载数据集"
   ],
   "metadata": {
    "collapsed": false
   },
   "id": "df2307c252f651c2"
  },
  {
   "cell_type": "code",
   "outputs": [
    {
     "data": {
      "text/plain": "  Label                                                SMS\n0   ham  Go until jurong point, crazy.. Available only ...\n1   ham                      Ok lar... Joking wif u oni...\n2  spam  Free entry in 2 a wkly comp to win FA Cup fina...\n3   ham  U dun say so early hor... U c already then say...\n4   ham  Nah I don't think he goes to usf, he lives aro...",
      "text/html": "<div>\n<style scoped>\n    .dataframe tbody tr th:only-of-type {\n        vertical-align: middle;\n    }\n\n    .dataframe tbody tr th {\n        vertical-align: top;\n    }\n\n    .dataframe thead th {\n        text-align: right;\n    }\n</style>\n<table border=\"1\" class=\"dataframe\">\n  <thead>\n    <tr style=\"text-align: right;\">\n      <th></th>\n      <th>Label</th>\n      <th>SMS</th>\n    </tr>\n  </thead>\n  <tbody>\n    <tr>\n      <th>0</th>\n      <td>ham</td>\n      <td>Go until jurong point, crazy.. Available only ...</td>\n    </tr>\n    <tr>\n      <th>1</th>\n      <td>ham</td>\n      <td>Ok lar... Joking wif u oni...</td>\n    </tr>\n    <tr>\n      <th>2</th>\n      <td>spam</td>\n      <td>Free entry in 2 a wkly comp to win FA Cup fina...</td>\n    </tr>\n    <tr>\n      <th>3</th>\n      <td>ham</td>\n      <td>U dun say so early hor... U c already then say...</td>\n    </tr>\n    <tr>\n      <th>4</th>\n      <td>ham</td>\n      <td>Nah I don't think he goes to usf, he lives aro...</td>\n    </tr>\n  </tbody>\n</table>\n</div>"
     },
     "execution_count": 10,
     "metadata": {},
     "output_type": "execute_result"
    }
   ],
   "source": [
    "file_path = 'sms-spam-collection/SMSSpamCollection'\n",
    "names = ['Label', 'SMS']\n",
    "df = pd.read_csv(file_path, sep='\\t', names=names)\n",
    "\n",
    "# 查看数据集\n",
    "df.head()"
   ],
   "metadata": {
    "collapsed": false,
    "ExecuteTime": {
     "end_time": "2023-12-26T08:39:31.526010Z",
     "start_time": "2023-12-26T08:39:31.512504Z"
    }
   },
   "id": "1e25c7898018c733",
   "execution_count": 10
  },
  {
   "cell_type": "markdown",
   "source": [
    "## 特征提取"
   ],
   "metadata": {
    "collapsed": false
   },
   "id": "a10433d0d5766197"
  },
  {
   "cell_type": "code",
   "outputs": [],
   "source": [
    "# 特征提取\n",
    "from sklearn.feature_extraction.text import CountVectorizer\n",
    "\n",
    "# 初始化计数向量器\n",
    "vectorizer = CountVectorizer()\n",
    "\n",
    "# 适配向量器并转换数据\n",
    "X = vectorizer.fit_transform(df['SMS']).toarray()\n",
    "y = df['Label']"
   ],
   "metadata": {
    "collapsed": false,
    "ExecuteTime": {
     "end_time": "2023-12-26T08:39:31.648901Z",
     "start_time": "2023-12-26T08:39:31.570566Z"
    }
   },
   "id": "3bb8da89cdcbac2c",
   "execution_count": 11
  },
  {
   "cell_type": "markdown",
   "source": [
    "## 分类算法实现\n",
    "1. 朴素贝叶斯\n",
    "2. 决策树\n",
    "3. KNN"
   ],
   "metadata": {
    "collapsed": false
   },
   "id": "3ee73cf6bba2fef0"
  },
  {
   "cell_type": "code",
   "outputs": [
    {
     "data": {
      "text/plain": "KNeighborsClassifier()",
      "text/html": "<style>#sk-container-id-2 {color: black;}#sk-container-id-2 pre{padding: 0;}#sk-container-id-2 div.sk-toggleable {background-color: white;}#sk-container-id-2 label.sk-toggleable__label {cursor: pointer;display: block;width: 100%;margin-bottom: 0;padding: 0.3em;box-sizing: border-box;text-align: center;}#sk-container-id-2 label.sk-toggleable__label-arrow:before {content: \"▸\";float: left;margin-right: 0.25em;color: #696969;}#sk-container-id-2 label.sk-toggleable__label-arrow:hover:before {color: black;}#sk-container-id-2 div.sk-estimator:hover label.sk-toggleable__label-arrow:before {color: black;}#sk-container-id-2 div.sk-toggleable__content {max-height: 0;max-width: 0;overflow: hidden;text-align: left;background-color: #f0f8ff;}#sk-container-id-2 div.sk-toggleable__content pre {margin: 0.2em;color: black;border-radius: 0.25em;background-color: #f0f8ff;}#sk-container-id-2 input.sk-toggleable__control:checked~div.sk-toggleable__content {max-height: 200px;max-width: 100%;overflow: auto;}#sk-container-id-2 input.sk-toggleable__control:checked~label.sk-toggleable__label-arrow:before {content: \"▾\";}#sk-container-id-2 div.sk-estimator input.sk-toggleable__control:checked~label.sk-toggleable__label {background-color: #d4ebff;}#sk-container-id-2 div.sk-label input.sk-toggleable__control:checked~label.sk-toggleable__label {background-color: #d4ebff;}#sk-container-id-2 input.sk-hidden--visually {border: 0;clip: rect(1px 1px 1px 1px);clip: rect(1px, 1px, 1px, 1px);height: 1px;margin: -1px;overflow: hidden;padding: 0;position: absolute;width: 1px;}#sk-container-id-2 div.sk-estimator {font-family: monospace;background-color: #f0f8ff;border: 1px dotted black;border-radius: 0.25em;box-sizing: border-box;margin-bottom: 0.5em;}#sk-container-id-2 div.sk-estimator:hover {background-color: #d4ebff;}#sk-container-id-2 div.sk-parallel-item::after {content: \"\";width: 100%;border-bottom: 1px solid gray;flex-grow: 1;}#sk-container-id-2 div.sk-label:hover label.sk-toggleable__label {background-color: #d4ebff;}#sk-container-id-2 div.sk-serial::before {content: \"\";position: absolute;border-left: 1px solid gray;box-sizing: border-box;top: 0;bottom: 0;left: 50%;z-index: 0;}#sk-container-id-2 div.sk-serial {display: flex;flex-direction: column;align-items: center;background-color: white;padding-right: 0.2em;padding-left: 0.2em;position: relative;}#sk-container-id-2 div.sk-item {position: relative;z-index: 1;}#sk-container-id-2 div.sk-parallel {display: flex;align-items: stretch;justify-content: center;background-color: white;position: relative;}#sk-container-id-2 div.sk-item::before, #sk-container-id-2 div.sk-parallel-item::before {content: \"\";position: absolute;border-left: 1px solid gray;box-sizing: border-box;top: 0;bottom: 0;left: 50%;z-index: -1;}#sk-container-id-2 div.sk-parallel-item {display: flex;flex-direction: column;z-index: 1;position: relative;background-color: white;}#sk-container-id-2 div.sk-parallel-item:first-child::after {align-self: flex-end;width: 50%;}#sk-container-id-2 div.sk-parallel-item:last-child::after {align-self: flex-start;width: 50%;}#sk-container-id-2 div.sk-parallel-item:only-child::after {width: 0;}#sk-container-id-2 div.sk-dashed-wrapped {border: 1px dashed gray;margin: 0 0.4em 0.5em 0.4em;box-sizing: border-box;padding-bottom: 0.4em;background-color: white;}#sk-container-id-2 div.sk-label label {font-family: monospace;font-weight: bold;display: inline-block;line-height: 1.2em;}#sk-container-id-2 div.sk-label-container {text-align: center;}#sk-container-id-2 div.sk-container {/* jupyter's `normalize.less` sets `[hidden] { display: none; }` but bootstrap.min.css set `[hidden] { display: none !important; }` so we also need the `!important` here to be able to override the default hidden behavior on the sphinx rendered scikit-learn.org. See: https://github.com/scikit-learn/scikit-learn/issues/21755 */display: inline-block !important;position: relative;}#sk-container-id-2 div.sk-text-repr-fallback {display: none;}</style><div id=\"sk-container-id-2\" class=\"sk-top-container\"><div class=\"sk-text-repr-fallback\"><pre>KNeighborsClassifier()</pre><b>In a Jupyter environment, please rerun this cell to show the HTML representation or trust the notebook. <br />On GitHub, the HTML representation is unable to render, please try loading this page with nbviewer.org.</b></div><div class=\"sk-container\" hidden><div class=\"sk-item\"><div class=\"sk-estimator sk-toggleable\"><input class=\"sk-toggleable__control sk-hidden--visually\" id=\"sk-estimator-id-2\" type=\"checkbox\" checked><label for=\"sk-estimator-id-2\" class=\"sk-toggleable__label sk-toggleable__label-arrow\">KNeighborsClassifier</label><div class=\"sk-toggleable__content\"><pre>KNeighborsClassifier()</pre></div></div></div></div></div>"
     },
     "execution_count": 12,
     "metadata": {},
     "output_type": "execute_result"
    }
   ],
   "source": [
    "# 模型训练\n",
    "from sklearn.model_selection import train_test_split\n",
    "from sklearn.naive_bayes import MultinomialNB\n",
    "from sklearn.tree import DecisionTreeClassifier\n",
    "from sklearn.neighbors import KNeighborsClassifier\n",
    "\n",
    "# 将数据分为训练集和测试集\n",
    "X_train, X_test, y_train, y_test = train_test_split(X, y, test_size=0.2, random_state=42)\n",
    "\n",
    "# 初始化分类器\n",
    "nb_classifier = MultinomialNB()\n",
    "dt_classifier = DecisionTreeClassifier()\n",
    "knn_classifier = KNeighborsClassifier()\n",
    "\n",
    "# 训练分类器\n",
    "nb_classifier.fit(X_train, y_train)\n",
    "dt_classifier.fit(X_train, y_train)\n",
    "knn_classifier.fit(X_train, y_train)\n"
   ],
   "metadata": {
    "collapsed": false,
    "ExecuteTime": {
     "end_time": "2023-12-26T08:39:38.902096Z",
     "start_time": "2023-12-26T08:39:31.651661Z"
    }
   },
   "id": "6ccad05dc39a95e4",
   "execution_count": 12
  },
  {
   "cell_type": "code",
   "outputs": [
    {
     "name": "stdout",
     "output_type": "stream",
     "text": [
      "Naive Bayes Classification Report:\n",
      "               precision    recall  f1-score   support\n",
      "\n",
      "         ham       0.99      0.99      0.99       966\n",
      "        spam       0.94      0.95      0.95       149\n",
      "\n",
      "    accuracy                           0.99      1115\n",
      "   macro avg       0.97      0.97      0.97      1115\n",
      "weighted avg       0.99      0.99      0.99      1115\n",
      "\n",
      "Decision Tree Classification Report:\n",
      "               precision    recall  f1-score   support\n",
      "\n",
      "         ham       0.98      0.99      0.98       966\n",
      "        spam       0.93      0.86      0.89       149\n",
      "\n",
      "    accuracy                           0.97      1115\n",
      "   macro avg       0.95      0.92      0.94      1115\n",
      "weighted avg       0.97      0.97      0.97      1115\n",
      "\n",
      "KNN Classification Report:\n",
      "               precision    recall  f1-score   support\n",
      "\n",
      "         ham       0.92      1.00      0.96       966\n",
      "        spam       1.00      0.44      0.61       149\n",
      "\n",
      "    accuracy                           0.93      1115\n",
      "   macro avg       0.96      0.72      0.79      1115\n",
      "weighted avg       0.93      0.93      0.91      1115\n"
     ]
    },
    {
     "data": {
      "text/plain": "<Figure size 1800x400 with 6 Axes>",
      "image/png": "[encoded data removed]"
     },
     "metadata": {},
     "output_type": "display_data"
    }
   ],
   "source": [
    "# 模型评估\n",
    "from sklearn.metrics import classification_report, confusion_matrix\n",
    "import seaborn as sns\n",
    "import matplotlib.pyplot as plt\n",
    "\n",
    "# 对测试集数据进行类别预测\n",
    "nb_predictions = nb_classifier.predict(X_test)\n",
    "dt_predictions = dt_classifier.predict(X_test)\n",
    "knn_predictions = knn_classifier.predict(X_test)\n",
    "\n",
    "# 生成分类报告\n",
    "nb_report = classification_report(y_test, nb_predictions)\n",
    "dt_report = classification_report(y_test, dt_predictions)\n",
    "knn_report = classification_report(y_test, knn_predictions)\n",
    "\n",
    "print('Naive Bayes Classification Report:\\n', nb_report)\n",
    "print('Decision Tree Classification Report:\\n', dt_report)\n",
    "print('KNN Classification Report:\\n', knn_report)\n",
    "\n",
    "# 生成混淆矩阵\n",
    "nb_cm = confusion_matrix(y_test, nb_predictions)\n",
    "dt_cm = confusion_matrix(y_test, dt_predictions)\n",
    "knn_cm = confusion_matrix(y_test, knn_predictions)\n",
    "\n",
    "# 绘制混淆矩阵\n",
    "fig, axes = plt.subplots(1, 3, figsize=(18, 4))\n",
    "sns.heatmap(nb_cm, annot=True, fmt='d', ax=axes[0], cmap='Blues').set_title('Naive Bayes')\n",
    "sns.heatmap(dt_cm, annot=True, fmt='d', ax=axes[1], cmap='Blues').set_title('Decision Tree')\n",
    "sns.heatmap(knn_cm, annot=True, fmt='d', ax=axes[2], cmap='Blues').set_title('KNN')\n",
    "plt.show()\n"
   ],
   "metadata": {
    "collapsed": false,
    "ExecuteTime": {
     "end_time": "2023-12-26T08:39:40.460310Z",
     "start_time": "2023-12-26T08:39:38.903631Z"
    }
   },
   "id": "ffb046069181d891",
   "execution_count": 13
  }
 ],
 "metadata": {
  "kernelspec": {
   "display_name": "Python 3",
   "language": "python",
   "name": "python3"
  },
  "language_info": {
   "codemirror_mode": {
    "name": "ipython",
    "version": 2
   },
   "file_extension": ".py",
   "mimetype": "text/x-python",
   "name": "python",
   "nbconvert_exporter": "python",
   "pygments_lexer": "ipython2",
   "version": "2.7.6"
  }
 },
 "nbformat": 4,
 "nbformat_minor": 5
}
